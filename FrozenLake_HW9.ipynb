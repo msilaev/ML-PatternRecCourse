{
  "nbformat": 4,
  "nbformat_minor": 0,
  "metadata": {
    "colab": {
      "provenance": [],
      "authorship_tag": "ABX9TyNeZthZz1tQlzdVQnSQxeNW",
      "include_colab_link": true
    },
    "kernelspec": {
      "name": "python3",
      "display_name": "Python 3"
    },
    "language_info": {
      "name": "python"
    }
  },
  "cells": [
    {
      "cell_type": "markdown",
      "metadata": {
        "id": "view-in-github",
        "colab_type": "text"
      },
      "source": [
        "<a href=\"https://colab.research.google.com/github/msilaev/ML-PatternRecCourse/blob/main/FrozenLake_HW9.ipynb\" target=\"_parent\"><img src=\"https://colab.research.google.com/assets/colab-badge.svg\" alt=\"Open In Colab\"/></a>"
      ]
    },
    {
      "cell_type": "code",
      "execution_count": null,
      "metadata": {
        "id": "oRkUs4BQX4uU"
      },
      "outputs": [],
      "source": [
        "import gym\n",
        "import time\n",
        "import numpy as np\n",
        "import matplotlib.pyplot as plt"
      ]
    },
    {
      "cell_type": "code",
      "source": [
        "def eval_policy(qtable_, num_of_episodes_, max_steps_):\n",
        "    rewards = []\n",
        "\n",
        "    for episode in range(num_of_episodes_): # This is out loop over num of episodes\n",
        "        state = env.reset()\n",
        "        total_reward = 0\n",
        "\n",
        "        for step in range(max_steps_):\n",
        "            action = np.argmax(qtable_[state,:])\n",
        "            new_state, reward, done, truncated = env.step(action)\n",
        "            total_reward += reward\n",
        "            if done:\n",
        "                break\n",
        "            else:\n",
        "                state = new_state\n",
        "        rewards.append(total_reward)\n",
        "        env.close()\n",
        "    return sum(rewards)/num_of_episodes_"
      ],
      "metadata": {
        "id": "MQDVm0FcePN4"
      },
      "execution_count": null,
      "outputs": []
    },
    {
      "cell_type": "code",
      "source": [
        "\n",
        "env = gym.make(\"FrozenLake-v1\", is_slippery=True, render_mode=\"ansi\")\n",
        "\n",
        "action_size = env.action_space.n\n",
        "print(\"Action size: \", action_size)\n",
        "\n",
        "state_size = env.observation_space.n\n",
        "print(\"State size: \", state_size)\n"
      ],
      "metadata": {
        "colab": {
          "base_uri": "https://localhost:8080/"
        },
        "id": "wyYkf4BoeTeM",
        "outputId": "8a7768ea-a320-454f-974e-02298b37bd95"
      },
      "execution_count": null,
      "outputs": [
        {
          "output_type": "stream",
          "name": "stdout",
          "text": [
            "Action size:  4\n",
            "State size:  16\n"
          ]
        }
      ]
    },
    {
      "cell_type": "code",
      "source": [
        "qtable = np.zeros([state_size, action_size])\n",
        "# start(0) -> go down (1)\n",
        "qtable[0,1] = 1\n",
        "# state(4) -> go down (1)\n",
        "qtable[4,1] = 1\n",
        "# state(8) -> go right (2)\n",
        "qtable[8,2] = 1\n",
        "# state(9) -> go down (1)\n",
        "qtable[9,1] = 1\n",
        "# state(13) -> go right (2)\n",
        "qtable[13,2] = 1\n",
        "# state(10) -> go left (0)\n",
        "qtable[10,0] = 1\n",
        "\n",
        "# state 1 -> go right (2)\n",
        "qtable[1,2] = 1\n",
        "\n",
        "# state 1 -> go left (0)\n",
        "#qtable[1,0] = 1\n",
        "\n",
        "# state 2 -> go down (1)\n",
        "qtable[2,1] = 1\n",
        "# state 3 -> go left (0)\n",
        "qtable[3,0] = 1\n",
        "# state 6 -> go down (1)\n",
        "qtable[6,1] = 1\n",
        "# state 10 -> go left (1)\n",
        "qtable[10,0] = 1\n",
        "# state 14 -> go right (2) -> GOAL\n",
        "qtable[14,2] = 2"
      ],
      "metadata": {
        "id": "GIPyXBrseeve"
      },
      "execution_count": null,
      "outputs": []
    },
    {
      "cell_type": "code",
      "source": [
        "#print(qtable)\n",
        "num_of_episodes_ = 10000\n",
        "print(f'Total reward for manually defined Q-table: {eval_policy(qtable, num_of_episodes_, 100)}')"
      ],
      "metadata": {
        "colab": {
          "base_uri": "https://localhost:8080/"
        },
        "id": "HQw8yisWerCy",
        "outputId": "cbea4e6a-54e7-4bed-e692-5aba6ada9b2c"
      },
      "execution_count": null,
      "outputs": [
        {
          "output_type": "stream",
          "name": "stdout",
          "text": [
            "Total reward for manually defined Q-table: 0.0524\n"
          ]
        }
      ]
    },
    {
      "cell_type": "code",
      "source": [],
      "metadata": {
        "id": "5b2oavTEe3VJ"
      },
      "execution_count": null,
      "outputs": []
    }
  ]
}